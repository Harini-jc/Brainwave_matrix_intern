{
 "cells": [
  {
   "cell_type": "code",
   "execution_count": 1,
   "id": "24f7137f-f459-453c-882b-a8970c1fe6c2",
   "metadata": {},
   "outputs": [
    {
     "name": "stdout",
     "output_type": "stream",
     "text": [
      "Welcome to the ATM System!\n"
     ]
    },
    {
     "name": "stdin",
     "output_type": "stream",
     "text": [
      "Enter your 4-digit PIN:  1234\n"
     ]
    },
    {
     "name": "stdout",
     "output_type": "stream",
     "text": [
      "PIN validated successfully!\n",
      "\n",
      "\n",
      "--- ATM Menu ---\n",
      "1. Check Balance\n",
      "2. Deposit Money\n",
      "3. Withdraw Money\n",
      "4. Exit\n"
     ]
    },
    {
     "name": "stdin",
     "output_type": "stream",
     "text": [
      "Choose an option (1-4):  1\n"
     ]
    },
    {
     "name": "stdout",
     "output_type": "stream",
     "text": [
      "\n",
      "Your current balance is: $1000.00\n",
      "\n",
      "--- ATM Menu ---\n",
      "1. Check Balance\n",
      "2. Deposit Money\n",
      "3. Withdraw Money\n",
      "4. Exit\n"
     ]
    },
    {
     "name": "stdin",
     "output_type": "stream",
     "text": [
      "Choose an option (1-4):  2\n",
      "Enter amount to deposit: $ 500\n"
     ]
    },
    {
     "name": "stdout",
     "output_type": "stream",
     "text": [
      "$500.00 deposited successfully!\n",
      "\n",
      "Your current balance is: $1500.00\n",
      "\n",
      "--- ATM Menu ---\n",
      "1. Check Balance\n",
      "2. Deposit Money\n",
      "3. Withdraw Money\n",
      "4. Exit\n"
     ]
    },
    {
     "name": "stdin",
     "output_type": "stream",
     "text": [
      "Choose an option (1-4):  3\n",
      "Enter amount to withdraw: $ 200\n"
     ]
    },
    {
     "name": "stdout",
     "output_type": "stream",
     "text": [
      "$200.00 withdrawn successfully!\n",
      "\n",
      "Your current balance is: $1300.00\n",
      "\n",
      "--- ATM Menu ---\n",
      "1. Check Balance\n",
      "2. Deposit Money\n",
      "3. Withdraw Money\n",
      "4. Exit\n"
     ]
    },
    {
     "name": "stdin",
     "output_type": "stream",
     "text": [
      "Choose an option (1-4):  4\n"
     ]
    },
    {
     "name": "stdout",
     "output_type": "stream",
     "text": [
      "Thank you for using the ATM. Goodbye!\n"
     ]
    }
   ],
   "source": [
    "class ATM:\n",
    "    def __init__(self):\n",
    "        self.balance = 1000  # Default initial balance\n",
    "        self.pin = \"1234\"    # Default PIN\n",
    "\n",
    "    def validate_pin(self):\n",
    "        for _ in range(3):  # Allows up to 3 attempts\n",
    "            entered_pin = input(\"Enter your 4-digit PIN: \")\n",
    "            if entered_pin == self.pin:\n",
    "                print(\"PIN validated successfully!\\n\")\n",
    "                return True\n",
    "            else:\n",
    "                print(\"Invalid PIN. Try again.\")\n",
    "        print(\"Too many invalid attempts. Exiting...\")\n",
    "        return False\n",
    "\n",
    "    def check_balance(self):\n",
    "        print(f\"\\nYour current balance is: ${self.balance:.2f}\")\n",
    "\n",
    "    def deposit(self):\n",
    "        try:\n",
    "            amount = float(input(\"Enter amount to deposit: $\"))\n",
    "            if amount > 0:\n",
    "                self.balance += amount\n",
    "                print(f\"${amount:.2f} deposited successfully!\")\n",
    "                self.check_balance()\n",
    "            else:\n",
    "                print(\"Invalid amount. Please enter a positive value.\")\n",
    "        except ValueError:\n",
    "            print(\"Invalid input. Please enter a numeric value.\")\n",
    "\n",
    "    def withdraw(self):\n",
    "        try:\n",
    "            amount = float(input(\"Enter amount to withdraw: $\"))\n",
    "            if amount > self.balance:\n",
    "                print(\"Insufficient funds.\")\n",
    "            elif amount <= 0:\n",
    "                print(\"Invalid amount. Please enter a positive value.\")\n",
    "            else:\n",
    "                self.balance -= amount\n",
    "                print(f\"${amount:.2f} withdrawn successfully!\")\n",
    "                self.check_balance()\n",
    "        except ValueError:\n",
    "            print(\"Invalid input. Please enter a numeric value.\")\n",
    "\n",
    "    def menu(self):\n",
    "        while True:\n",
    "            print(\"\\n--- ATM Menu ---\")\n",
    "            print(\"1. Check Balance\")\n",
    "            print(\"2. Deposit Money\")\n",
    "            print(\"3. Withdraw Money\")\n",
    "            print(\"4. Exit\")\n",
    "            try:\n",
    "                choice = int(input(\"Choose an option (1-4): \"))\n",
    "                if choice == 1:\n",
    "                    self.check_balance()\n",
    "                elif choice == 2:\n",
    "                    self.deposit()\n",
    "                elif choice == 3:\n",
    "                    self.withdraw()\n",
    "                elif choice == 4:\n",
    "                    print(\"Thank you for using the ATM. Goodbye!\")\n",
    "                    break\n",
    "                else:\n",
    "                    print(\"Invalid choice. Please choose a valid option.\")\n",
    "            except ValueError:\n",
    "                print(\"Invalid input. Please enter a numeric value.\")\n",
    "\n",
    "# Main Program\n",
    "if __name__ == \"__main__\":\n",
    "    atm = ATM()\n",
    "    print(\"Welcome to the ATM System!\")\n",
    "    if atm.validate_pin():\n",
    "        atm.menu()\n"
   ]
  },
  {
   "cell_type": "code",
   "execution_count": null,
   "id": "97e80e64-58bf-43e3-aadc-12300cb828d8",
   "metadata": {},
   "outputs": [],
   "source": []
  }
 ],
 "metadata": {
  "kernelspec": {
   "display_name": "Python 3 (ipykernel)",
   "language": "python",
   "name": "python3"
  },
  "language_info": {
   "codemirror_mode": {
    "name": "ipython",
    "version": 3
   },
   "file_extension": ".py",
   "mimetype": "text/x-python",
   "name": "python",
   "nbconvert_exporter": "python",
   "pygments_lexer": "ipython3",
   "version": "3.12.7"
  }
 },
 "nbformat": 4,
 "nbformat_minor": 5
}
